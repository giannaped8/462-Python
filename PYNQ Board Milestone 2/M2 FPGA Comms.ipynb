{
 "cells": [
  {
   "cell_type": "code",
   "execution_count": 25,
   "id": "9514776b",
   "metadata": {},
   "outputs": [],
   "source": [
    "import numpy as np\n",
    "import json\n",
    "from bottle import Bottle, request, response, run, template, static_file"
   ]
  },
  {
   "cell_type": "code",
   "execution_count": null,
   "id": "f1b88534",
   "metadata": {},
   "outputs": [],
   "source": [
    "#COPIED FROM MILESTONE 1 SUBMISSION\n",
    "from pynq import Overlay, DefaultIP, allocate\n",
    "\n",
    "class ConstantMultiplyDriver(DefaultIP):\n",
    "    def __init__(self, description):\n",
    "        super().__init__(description=description)\n",
    "        self._constant_r_addr = self.register_map.constant_r.address\n",
    "    \n",
    "    bindto = ['xilinx.com:hls:mult_constant:1.0']\n",
    "    \n",
    "    @property\n",
    "    def constant(self):\n",
    "        return self.read(self._constant_r_addr)\n",
    "    @constant.setter\n",
    "    def constant(self, value):\n",
    "        self.write(self._constant_r_addr, value)\n",
    "        \n",
    "        \n",
    "#TODO: UPDATE TO POINT TO CORRECT FILE AND SEND CORRECT DATA\n",
    "overlay = Overlay('/home/xilinx/pynq/overlays/project_mult_constant/project_mult_constant.bit')\n",
    "multiply = overlay.mult_constant_0\n",
    "dma = overlay.axi_dma_0\n",
    "in_buffer = allocate(shape=(5,), dtype=np.uint32)\n",
    "out_buffer = allocate(shape=(5,), dtype=np.uint32)"
   ]
  },
  {
   "cell_type": "code",
   "execution_count": 29,
   "id": "f1e1aded",
   "metadata": {},
   "outputs": [],
   "source": [
    "app = Bottle()\n",
    "strings = {}  # Store the values\n",
    "next_id = 1  # Unique ID for each request\n",
    "\n",
    "# Route to serve static CSS files\n",
    "@app.route('/static/<filename>')\n",
    "def serve_static(filename):\n",
    "    return static_file(filename, root='./static')\n",
    "\n",
    "# Route to render the HTML page\n",
    "@app.get('/')\n",
    "def index():\n",
    "    return template(\"index\", strings=strings)\n",
    "\n",
    "#TODO: PUT HTML AND CSS FILES IN CORRECT PLACES"
   ]
  },
  {
   "cell_type": "code",
   "execution_count": 30,
   "id": "dc0c0351",
   "metadata": {},
   "outputs": [],
   "source": [
    "@app.post('/encrypt')\n",
    "def encrypt():\n",
    "    global next_id\n",
    "\n",
    "    # Get the number value from the form\n",
    "    input_value = request.forms.get('input')\n",
    "\n",
    "    # Make sure a valid number is provided\n",
    "    if not input_value:\n",
    "        return \"<p>Error: Text input is required.</p><a href='/'>Go Back</a>\"\n",
    "    \n",
    "    try:\n",
    "        input_value = str(input_value)  # Convert to integer\n",
    "    except ValueError:\n",
    "        return \"<p>Error: Please enter valid text.</p><a href='/'>Go Back</a>\"\n",
    " \n",
    "    \n",
    "    \n",
    "    input_encrypt = aes_encrypt(input_value, key)\n",
    "      \n",
    "    \n",
    "    #COPIED FROM MILESTONE 1 SUBMISSION\n",
    "    # SEND num_value to board and do x2 on the FPGA, then send value back here\n",
    "   \n",
    "    #TODO: REPLACE NUMBERS WITH KEY AND INPUT VAL\n",
    "    key = \"thisisakey123456\"\n",
    "    in_buffer[0] = input_value\n",
    "    in_buffer[1] = key\n",
    "    in_buffer\n",
    "\n",
    "    dma.sendchannel.transfer(in_buffer)\n",
    "    dma.recvchannel.transfer(out_buffer)\n",
    "    dma.sendchannel.wait()\n",
    "    dma.recvchannel.wait()\n",
    "\n",
    "    input_encrypt = out_buffer[0]\n",
    "   \n",
    "    # Store the request and its result\n",
    "    input_id = next_id\n",
    "    next_id += 1\n",
    "    strings[input_id] = {\"id\": input_id, \"value\": input_value, \"encrypt\": input_encrypt}\n",
    "\n",
    "    \n",
    "    \n",
    "    # Show the success message and return to the main page\n",
    "    return f\"<p>Input {input_value} \\nEncryption : {input_encrypt}</p><a href='/'>Go Back</a>\"\n"
   ]
  },
  {
   "cell_type": "code",
   "execution_count": 31,
   "id": "16e5300e",
   "metadata": {},
   "outputs": [
    {
     "name": "stderr",
     "output_type": "stream",
     "text": [
      "Bottle v0.13.2 server starting up (using WSGIRefServer())...\n",
      "Listening on http://localhost:8080/\n",
      "Hit Ctrl-C to quit.\n",
      "\n",
      "127.0.0.1 - - [19/Feb/2025 14:59:17] \"GET / HTTP/1.1\" 200 826\n",
      "127.0.0.1 - - [19/Feb/2025 14:59:17] \"GET /static/style.css HTTP/1.1\" 304 0\n",
      "127.0.0.1 - - [19/Feb/2025 14:59:21] \"POST /encrypt HTTP/1.1\" 200 89\n",
      "127.0.0.1 - - [19/Feb/2025 14:59:24] \"GET / HTTP/1.1\" 200 904\n"
     ]
    }
   ],
   "source": [
    "# Run the app\n",
    "if __name__ == '__main__':\n",
    "    run(app, host='192.168.2.99', port=8080, debug=True)"
   ]
  }
 ],
 "metadata": {
  "kernelspec": {
   "display_name": "Python 3 (ipykernel)",
   "language": "python",
   "name": "python3"
  },
  "language_info": {
   "codemirror_mode": {
    "name": "ipython",
    "version": 3
   },
   "file_extension": ".py",
   "mimetype": "text/x-python",
   "name": "python",
   "nbconvert_exporter": "python",
   "pygments_lexer": "ipython3",
   "version": "3.10.4"
  }
 },
 "nbformat": 4,
 "nbformat_minor": 5
}
