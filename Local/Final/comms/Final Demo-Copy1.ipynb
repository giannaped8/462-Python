{
 "cells": [
  {
   "cell_type": "code",
   "execution_count": 3,
   "id": "eb157b3f",
   "metadata": {},
   "outputs": [
    {
     "name": "stderr",
     "output_type": "stream",
     "text": [
      "Bottle v0.13.2 server starting up (using WSGIRefServer())...\n",
      "Listening on http://localhost:8080/\n",
      "Hit Ctrl-C to quit.\n",
      "\n",
      "127.0.0.1 - - [07/Apr/2025 14:25:56] \"GET / HTTP/1.1\" 200 2490\n",
      "127.0.0.1 - - [07/Apr/2025 14:25:56] \"GET /static/style1.css?v=1744053956 HTTP/1.1\" 404 773\n",
      "127.0.0.1 - - [07/Apr/2025 14:25:56] \"GET /get_strings HTTP/1.1\" 200 2\n",
      "Traceback (most recent call last):\n",
      "  File \"/Users/giannapedicini/opt/anaconda3/lib/python3.9/site-packages/bottle.py\", line 995, in _handle\n",
      "    out = route.call(**args)\n",
      "  File \"/Users/giannapedicini/opt/anaconda3/lib/python3.9/site-packages/bottle.py\", line 2025, in wrapper\n",
      "    rv = callback(*a, **ka)\n",
      "  File \"/var/folders/xh/83f3y9317y77pds26mzg3lz80000gn/T/ipykernel_44692/2692799954.py\", line 44, in encrypt\n",
      "    input_encrypt = aes_encrypt(input_value, key)\n",
      "NameError: name 'aes_encrypt' is not defined\n",
      "127.0.0.1 - - [07/Apr/2025 14:25:58] \"POST /encrypt HTTP/1.1\" 500 1487\n"
     ]
    }
   ],
   "source": [
    "#AES Encryption & Decryption Website\n",
    "# AES-128, ECB Mode\n",
    "\n",
    "import numpy as np\n",
    "import json\n",
    "from bottle import Bottle, request, response, run, template, static_file, redirect\n",
    "from time import time\n",
    "\n",
    "app = Bottle()\n",
    "strings = {}  # List to store input, encryption, and unique IDs\n",
    "next_id = 1  # Unique ID for each request\n",
    "key = \"thisisakey123456\"\n",
    "\n",
    "\n",
    "#Update Javascript in HTML file\n",
    "@app.get('/get_strings')\n",
    "def get_strings():\n",
    "    response.content_type = 'application/json'\n",
    "    return json.dumps(strings)  # Send stored strings as JSON\n",
    "\n",
    "\n",
    "# Route to render the HOME page\n",
    "@app.get('/')\n",
    "def home():\n",
    "    return template(\"index\", strings=strings, time=int(time()))\n",
    "\n",
    "\n",
    "#Accept input & send to encryption\n",
    "@app.post('/encrypt')\n",
    "def encrypt():\n",
    "    global next_id\n",
    "\n",
    "    # Get user input\n",
    "    input_value = request.forms.get('input')\n",
    "\n",
    "    # Ensure input is valid\n",
    "    if not input_value:\n",
    "        return \"<p>Error: Text input is required.</p><a href='/'>Go Back</a>\"\n",
    "\n",
    "    \n",
    "    \n",
    "    \n",
    "    #SEND INFO TO FPGA HERE\n",
    "    input_encrypt = aes_encrypt(input_value, key)\n",
    "\n",
    "   \n",
    "\n",
    "\n",
    "    # Store the encrypted result\n",
    "    strings[next_id] = {\"id\": next_id, \"value\": input_value, \"encrypt\": input_encrypt}\n",
    "    next_id += 1\n",
    "    \n",
    "\n",
    "    # Redirect back to the landing page\n",
    "    redirect('/demo')\n",
    "\n",
    "\n",
    "\n",
    "# Run the app\n",
    "if __name__ == '__main__':\n",
    "    run(app, host='localhost', port=8080, debug=True)"
   ]
  },
  {
   "cell_type": "code",
   "execution_count": null,
   "id": "f607df9a",
   "metadata": {},
   "outputs": [],
   "source": []
  },
  {
   "cell_type": "code",
   "execution_count": null,
   "id": "7292d551",
   "metadata": {},
   "outputs": [],
   "source": []
  }
 ],
 "metadata": {
  "kernelspec": {
   "display_name": "Python 3 (ipykernel)",
   "language": "python",
   "name": "python3"
  },
  "language_info": {
   "codemirror_mode": {
    "name": "ipython",
    "version": 3
   },
   "file_extension": ".py",
   "mimetype": "text/x-python",
   "name": "python",
   "nbconvert_exporter": "python",
   "pygments_lexer": "ipython3",
   "version": "3.9.7"
  }
 },
 "nbformat": 4,
 "nbformat_minor": 5
}
